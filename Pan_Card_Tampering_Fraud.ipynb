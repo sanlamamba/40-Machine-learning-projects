{
  "nbformat": 4,
  "nbformat_minor": 0,
  "metadata": {
    "colab": {
      "name": "Pan Card Tampering Fraud.ipynb",
      "provenance": [],
      "collapsed_sections": [],
      "authorship_tag": "ABX9TyNB4AmHoUnsmD/3Gjdm0YlP",
      "include_colab_link": true
    },
    "kernelspec": {
      "name": "python3",
      "display_name": "Python 3"
    },
    "language_info": {
      "name": "python"
    }
  },
  "cells": [
    {
      "cell_type": "markdown",
      "metadata": {
        "id": "view-in-github",
        "colab_type": "text"
      },
      "source": [
        "<a href=\"https://colab.research.google.com/github/sanlamamba/40-Machine-learning-projects/blob/constructing/Pan_Card_Tampering_Fraud.ipynb\" target=\"_parent\"><img src=\"https://colab.research.google.com/assets/colab-badge.svg\" alt=\"Open In Colab\"/></a>"
      ]
    },
    {
      "cell_type": "markdown",
      "source": [
        "## Pan Card Tampering Detection\n",
        "Description here"
      ],
      "metadata": {
        "id": "XGn9SjXg4nBc"
      }
    },
    {
      "cell_type": "markdown",
      "source": [
        "Detection of structural similarity of original PAN and the PAN card uploaded by **user**"
      ],
      "metadata": {
        "id": "r3GQIehm4zGg"
      }
    },
    {
      "cell_type": "code",
      "source": [
        "#imports of packages\n",
        "from skimage.metrics import structural_similarity\n",
        "import imutils \n",
        "import cv2\n",
        "from PIL import Image\n",
        "import requests "
      ],
      "metadata": {
        "id": "reyIvB5N5BCW"
      },
      "execution_count": 1,
      "outputs": []
    },
    {
      "cell_type": "code",
      "source": [
        "#Creating the neccessary directories\n",
        "!mkdir pan_card_tampering\n",
        "!mkdir pan_card_tampering/image"
      ],
      "metadata": {
        "id": "omYyqxk35VtL"
      },
      "execution_count": 2,
      "outputs": []
    },
    {
      "cell_type": "code",
      "source": [
        "# Open image and display\n",
        "originalImg = Image.open(requests.get('https://www.thestatesman.com/wp-content/uploads/2019/07/pan-card.jpg', stream=True).raw)\n",
        "comparedImg = Image.open(requests.get('https://assets1.cleartax-cdn.com/s/img/20170526124335/Pan4.png', stream=True).raw)"
      ],
      "metadata": {
        "id": "88RlOzSO6j6w"
      },
      "execution_count": 3,
      "outputs": []
    },
    {
      "cell_type": "code",
      "source": [
        "#Printing to screen images format ( extension )\n",
        "print(\"Original Image Format : \", originalImg.format)\n",
        "print(\"Original Image Format : \", comparedImg.format)\n",
        "\n",
        "#Printing Image size as a 2-tuple in pixels (width, height)\n",
        "print(\"Original Image Size : \", originalImg.size)\n",
        "print(\"Original Image Size : \", comparedImg.size)\n"
      ],
      "metadata": {
        "colab": {
          "base_uri": "https://localhost:8080/"
        },
        "id": "JsS5wj6b6-e0",
        "outputId": "6daf564f-0c28-43a5-ae5f-37582525724a"
      },
      "execution_count": 6,
      "outputs": [
        {
          "output_type": "stream",
          "name": "stdout",
          "text": [
            "Original Image Format :  JPEG\n",
            "Original Image Format :  PNG\n",
            "Original Image Size :  (1200, 800)\n",
            "Original Image Size :  (282, 179)\n"
          ]
        }
      ]
    },
    {
      "cell_type": "markdown",
      "source": [
        "Making sure both image has the same size"
      ],
      "metadata": {
        "id": "G2Xr_68G7smd"
      }
    },
    {
      "cell_type": "code",
      "source": [
        "#Resizing images to same size\n",
        "originalImg = originalImg.resize({250,160})\n",
        "comparedImg = comparedImg.resize({250,160})\n",
        "\n",
        "#Printing size to as a 2-tuple\n",
        "print(\"Original Image Size : \", originalImg.size)\n",
        "print(\"Original Image Size : \", comparedImg.size)\n",
        "\n",
        "#Saving images to directories\n",
        "originalImg.save(\"pan_card_tampering/image/originalImg.png\")\n",
        "comparedImg.save(\"pan_card_tampering/image/comparedImg.png\")"
      ],
      "metadata": {
        "colab": {
          "base_uri": "https://localhost:8080/"
        },
        "id": "yYcXW4FE7zVT",
        "outputId": "ac61d1af-3557-41a0-f893-17fe86335c11"
      },
      "execution_count": 8,
      "outputs": [
        {
          "output_type": "stream",
          "name": "stdout",
          "text": [
            "Original Image Size :  (160, 250)\n",
            "Original Image Size :  (160, 250)\n"
          ]
        }
      ]
    }
  ]
}