{
  "nbformat": 4,
  "nbformat_minor": 0,
  "metadata": {
    "colab": {
      "name": "Pan Card Tampering Fraud.ipynb",
      "provenance": [],
      "authorship_tag": "ABX9TyN4gjMS1E144emvkjCTTxhr",
      "include_colab_link": true
    },
    "kernelspec": {
      "name": "python3",
      "display_name": "Python 3"
    },
    "language_info": {
      "name": "python"
    }
  },
  "cells": [
    {
      "cell_type": "markdown",
      "metadata": {
        "id": "view-in-github",
        "colab_type": "text"
      },
      "source": [
        "<a href=\"https://colab.research.google.com/github/sanlamamba/40-Machine-learning-projects/blob/constructing/Pan_Card_Tampering_Fraud.ipynb\" target=\"_parent\"><img src=\"https://colab.research.google.com/assets/colab-badge.svg\" alt=\"Open In Colab\"/></a>"
      ]
    },
    {
      "cell_type": "markdown",
      "source": [
        "## Pan Card Tampering Detection\n",
        "Description here"
      ],
      "metadata": {
        "id": "XGn9SjXg4nBc"
      }
    },
    {
      "cell_type": "markdown",
      "source": [
        "Detection of structural similarity of original PAN and the PAN card uploaded by **user**"
      ],
      "metadata": {
        "id": "r3GQIehm4zGg"
      }
    },
    {
      "cell_type": "code",
      "source": [
        "#imports of packages\n",
        "from skimage.metrics import structural_similarity\n",
        "import imutils \n",
        "import cv2\n",
        "from PIL import Image\n",
        "import requests "
      ],
      "metadata": {
        "id": "reyIvB5N5BCW"
      },
      "execution_count": 1,
      "outputs": []
    },
    {
      "cell_type": "code",
      "source": [
        "#Creating the neccessary directories\n",
        "!mkdir pan_card_tampering\n",
        "!mkdir pan_card_tampering/image"
      ],
      "metadata": {
        "id": "omYyqxk35VtL"
      },
      "execution_count": null,
      "outputs": []
    }
  ]
}